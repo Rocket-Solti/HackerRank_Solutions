{
 "cells": [
  {
   "cell_type": "code",
   "execution_count": null,
   "metadata": {},
   "outputs": [],
   "source": [
    "def ValidationOfRomanNumerals(string): \n",
    "      \n",
    "    # Importing regular expression \n",
    "    import re \n",
    "      \n",
    "    # Serching the input string in expression and  \n",
    "    # returning the boolean value \n",
    "    print(bool(re.search(r\"^M{0,3}(CM|CD|D?C{0,3})(XC|XL|L?X{0,3})(IX|IV|V?I{0,3})$\",string.upper()))) \n",
    "  \n",
    "# Driver code \n",
    "  \n",
    "# Given string \n",
    "string=input('Provide any Strings to get validation : ')\n",
    "# Function call \n",
    "ValidationOfRomanNumerals(string.upper()) "
   ]
  },
  {
   "cell_type": "code",
   "execution_count": null,
   "metadata": {},
   "outputs": [],
   "source": []
  }
 ],
 "metadata": {
  "kernelspec": {
   "display_name": "Python 3",
   "language": "python",
   "name": "python3"
  },
  "language_info": {
   "codemirror_mode": {
    "name": "ipython",
    "version": 3
   },
   "file_extension": ".py",
   "mimetype": "text/x-python",
   "name": "python",
   "nbconvert_exporter": "python",
   "pygments_lexer": "ipython3",
   "version": "3.7.3"
  }
 },
 "nbformat": 4,
 "nbformat_minor": 2
}
